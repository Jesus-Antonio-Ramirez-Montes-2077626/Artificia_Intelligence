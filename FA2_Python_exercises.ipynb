{
  "nbformat": 4,
  "nbformat_minor": 0,
  "metadata": {
    "colab": {
      "provenance": [],
      "authorship_tag": "ABX9TyP88VkQzOlNCusFN8b8dGrW",
      "include_colab_link": true
    },
    "kernelspec": {
      "name": "python3",
      "display_name": "Python 3"
    },
    "language_info": {
      "name": "python"
    }
  },
  "cells": [
    {
      "cell_type": "markdown",
      "metadata": {
        "id": "view-in-github",
        "colab_type": "text"
      },
      "source": [
        "<a href=\"https://colab.research.google.com/github/Jesus-Antonio-Ramirez-Montes-2077626/Artificia_Intelligence/blob/main/FA2_Python_exercises.ipynb\" target=\"_parent\"><img src=\"https://colab.research.google.com/assets/colab-badge.svg\" alt=\"Open In Colab\"/></a>"
      ]
    },
    {
      "cell_type": "markdown",
      "source": [
        "Jesús Antonio Ramírez Montes\n",
        "   2077626\n",
        "   Group 002\n",
        "   Artificial Intelligence"
      ],
      "metadata": {
        "id": "ibuXHRn9bOu6"
      }
    },
    {
      "cell_type": "markdown",
      "source": [
        "Fundamental Activity 2: Python exercises"
      ],
      "metadata": {
        "id": "PRoYB3zkbosg"
      }
    },
    {
      "cell_type": "markdown",
      "source": [
        "Exercise 1: text analyzer"
      ],
      "metadata": {
        "id": "QMHxGFFGcBrz"
      }
    },
    {
      "cell_type": "code",
      "source": [
        "import re\n",
        "from collections import Counter\n",
        "print(\"\"\"                   [Welcome to the text analyzer]\n",
        "               [Sentences must be separated by dots]\n",
        "  [Paragraphs must be separated by double newline (double space)]\n",
        " [Words must be separated by spaces (like in every existing text)]\n",
        "            [File must be called text.txt in lowercase]\n",
        "      [Now hit enter and enjoy, thank you for your preference]\"\"\")\n",
        "input()\n",
        "def analyze_text(filename):\n",
        "    with open(filename, 'r') as file:\n",
        "        text = file.read()\n",
        "\n",
        "    word_count = len(re.findall(r'\\w+', text))\n",
        "    sentence_count = len(re.findall(r'\\.', text))\n",
        "    paragraph_count = len(re.findall(r'\\n\\n', text)) + 1\n",
        "\n",
        "    words = re.findall(r'\\w+', text)\n",
        "    total_word_length = sum(len(word) for word in words)\n",
        "    average_word_length = total_word_length / word_count if word_count > 0 else 0\n",
        "    average_word_length = int(average_word_length)\n",
        "\n",
        "    words_frequency = Counter(words)\n",
        "    most_common_words = words_frequency.most_common(10)\n",
        "\n",
        "    print(\"Word number:\", word_count)\n",
        "    print(\"Sentence number:\", sentence_count)\n",
        "    print(\"Paragraph number:\", paragraph_count)\n",
        "    print(\"Average word length:\", average_word_length)\n",
        "    print(\"Most common words and their frequencies:\", most_common_words)\n",
        "\n",
        "if __name__ == \"__main__\":\n",
        "    filename = 'test.txt'\n",
        "    analyze_text(filename)\n",
        "\n",
        "print(\"[We hope the results were of help to you and we hope to see you again soon]\\n\\n    (BYE)>(^w^)/\\n          |[ ]\\n           | |\\n\")"
      ],
      "metadata": {
        "colab": {
          "base_uri": "https://localhost:8080/"
        },
        "id": "F2uktR9bbKQZ",
        "outputId": "4ff3abda-0449-4797-d526-a732285b0ba8"
      },
      "execution_count": null,
      "outputs": [
        {
          "output_type": "stream",
          "name": "stdout",
          "text": [
            "                   [Welcome to the text analyzer]\n",
            "               [Sentences must be separated by dots]\n",
            "  [Paragraphs must be separated by double newline (double space)]\n",
            " [Words must be separated by spaces (like in every existing text)]\n",
            "            [File must be called text.txt in lowercase]\n",
            "      [Now hit enter and enjoy, thank you for your preference]\n",
            "\n",
            "Word number: 420\n",
            "Sentence number: 16\n",
            "Paragraph number: 5\n",
            "Average word length: 4\n",
            "Most common words and their frequencies: [('the', 48), ('to', 20), ('of', 19), ('and', 18), ('Radiance', 10), ('a', 9), ('as', 8), ('bugs', 6), ('who', 5), ('Void', 5)]\n",
            "[We hope the results were of help to you and we hope to see you again soon]\n",
            "\n",
            "    (BYE)>(^w^)/\n",
            "          |[ ]\n",
            "           | |\n",
            "\n"
          ]
        }
      ]
    },
    {
      "cell_type": "markdown",
      "source": [
        "Exercise 2: Hanged man"
      ],
      "metadata": {
        "id": "lxb1AIotfbm-"
      }
    },
    {
      "cell_type": "code",
      "source": [
        "import random\n",
        "word=[\"pikachu\", \"squirtle\", \"charmander\", \"bulbasaur\",\"eevee\",\"cyndaquill\",\"totodile\", \"chikorita\", \"torchic\",\"mudkip\",\"treecko\",\"piplup\",\"turtwig\",\"chimchar\"\n",
        "      \"tepig\", \"snivy\", \"oshawott\", \"fennekin\", \"chespin\", \"froakie\", \"rowlett\", \"popplio\", \"litten\", \"sobble\", \"scorbunny\", \"grookey\", \"fuecoco\", \"sprigatito\", \"quaxly\"]\n",
        "w=random.choice(word)\n",
        "print(\"\"\"        [Pokemon hanged man]          \\n\n",
        "        [Hit enter to begin]         \\n\n",
        "          [Lowercase only]           \\n\n",
        "          [Hint: starters]\"\"\")\n",
        "l=len(w)\n",
        "char=list(w)\n",
        "Enter=input()\n",
        "if l==4:\n",
        "    print(\"_ _ _ _\\n\")\n",
        "elif l==5:\n",
        "    print(\"_ _ _ _ _\\n\")\n",
        "elif l==6:\n",
        "    print(\"_ _ _ _ _ _\\n\")\n",
        "elif l==7:\n",
        "    print(\"_ _ _ _ _ _ _\\n\")\n",
        "elif l==8:\n",
        "    print(\"_ _ _ _ _ _ _ _\\n\")\n",
        "elif l==9:\n",
        "    print(\"_ _ _ _ _ _ _ _ _\\n\")\n",
        "elif l==10:\n",
        "    print(\"_ _ _ _ _ _ _ _ _ _\\n\")\n",
        "else:\n",
        "    print(\"_ _ _ _ _ _ _ _ _ _ _\\n\")\n",
        "comb=[\"_\"]*l\n",
        "check=0\n",
        "life=6\n",
        "while (check < l):\n",
        "    if life==6:\n",
        "        LifeBar=\"Life bar [||||||]\"\n",
        "    elif life==5:\n",
        "        LifeBar=\"Life bar [||||| ]\"\n",
        "    elif life==4:\n",
        "        LifeBar=\"Life bar [||||  ]\"\n",
        "    elif life==3:\n",
        "        LifeBar=\"Life bar [|||   ]\"\n",
        "    elif life==2:\n",
        "        LifeBar=\"Life bar [||    ]\"\n",
        "    elif life==1:\n",
        "        LifeBar=\"Life bar [|     ]\"\n",
        "    else:\n",
        "        LifeBar=\"Life bar [      ]\"\n",
        "    print(LifeBar+str(life))\n",
        "    x=str(input())\n",
        "    hang=0\n",
        "    for i in range(0,l,1):\n",
        "        if x==char[i]:\n",
        "            check+=1\n",
        "            comb[i]=char[i]\n",
        "            hang+=1\n",
        "    if hang==0:\n",
        "        life-=1\n",
        "    print(comb)\n",
        "    if life<1:\n",
        "        print(\"\"\"Life bar [      ]\n",
        "              \\n        [Sorry, you weren't able to save me... ]\n",
        "[In this attempt at least, you are welcome to try again]\\n\"\"\")\n",
        "        print(char)\n",
        "        break\n",
        "if life>0 and l==check:\n",
        "    print(\"\\n      [Thank you for saving me]\")\n",
        "\n"
      ],
      "metadata": {
        "colab": {
          "base_uri": "https://localhost:8080/"
        },
        "id": "4m9gwrURfham",
        "outputId": "18491c3b-e957-4c71-9fab-75c24f700b56"
      },
      "execution_count": null,
      "outputs": [
        {
          "output_type": "stream",
          "name": "stdout",
          "text": [
            "        [Pokemon hanged man]          \n",
            "\n",
            "        [Hit enter to begin]         \n",
            "\n",
            "          [Lowercase only]           \n",
            "\n",
            "          [Hint: starters]\n",
            "\n",
            "_ _ _ _ _ _ _ _ _ _\n",
            "\n",
            "Life bar [||||||]6\n",
            "c\n",
            "['c', '_', '_', '_', '_', '_', '_', '_', '_', '_']\n",
            "Life bar [||||||]6\n",
            "a\n",
            "['c', '_', '_', '_', 'a', '_', '_', '_', '_', '_']\n",
            "Life bar [||||||]6\n",
            "m\n",
            "['c', '_', '_', '_', 'a', '_', '_', '_', '_', '_']\n",
            "Life bar [||||| ]5\n",
            "r\n",
            "['c', '_', '_', '_', 'a', '_', '_', '_', '_', '_']\n",
            "Life bar [||||  ]4\n",
            "h\n",
            "['c', '_', '_', '_', 'a', '_', '_', '_', '_', '_']\n",
            "Life bar [|||   ]3\n",
            "l\n",
            "['c', '_', '_', '_', 'a', '_', '_', '_', 'l', 'l']\n",
            "Life bar [|||   ]3\n",
            "y\n",
            "['c', 'y', '_', '_', 'a', '_', '_', '_', 'l', 'l']\n",
            "Life bar [|||   ]3\n",
            "n\n",
            "['c', 'y', 'n', '_', 'a', '_', '_', '_', 'l', 'l']\n",
            "Life bar [|||   ]3\n",
            "d\n",
            "['c', 'y', 'n', 'd', 'a', '_', '_', '_', 'l', 'l']\n",
            "Life bar [|||   ]3\n",
            "q\n",
            "['c', 'y', 'n', 'd', 'a', 'q', '_', '_', 'l', 'l']\n",
            "Life bar [|||   ]3\n",
            "u\n",
            "['c', 'y', 'n', 'd', 'a', 'q', 'u', '_', 'l', 'l']\n",
            "Life bar [|||   ]3\n",
            "i\n",
            "['c', 'y', 'n', 'd', 'a', 'q', 'u', 'i', 'l', 'l']\n",
            "\n",
            "      [Thank you for saving me]\n"
          ]
        }
      ]
    },
    {
      "cell_type": "markdown",
      "source": [
        "Exercise 3: Number guessing"
      ],
      "metadata": {
        "id": "XGpmDY1mgZ4B"
      }
    },
    {
      "cell_type": "code",
      "source": [
        "import random\n",
        "x=random.randint(1,100)\n",
        "\n",
        "print(\"\"\"          [Number guessing]          \\n\n",
        "        [Hit enter to begin]         \"\"\")\n",
        "Enter=input()\n",
        "if Enter==\"\":\n",
        "    print(\"              [Start]          \\n\")\n",
        "g=int(input())\n",
        "while(g!=x):\n",
        "    if g<x:\n",
        "        print(\"             [Bigger]\\n\")\n",
        "        g=int(input())\n",
        "    elif g>x:\n",
        "        print(\"             [Smaller]\\n\")\n",
        "        g=int(input())\n",
        "print(\"      [We have a winner!!!]\\n\")\n",
        "\n"
      ],
      "metadata": {
        "colab": {
          "base_uri": "https://localhost:8080/"
        },
        "id": "BfmhAS66geDQ",
        "outputId": "6240240b-0d3e-41c3-a25c-f708a2c06d02"
      },
      "execution_count": null,
      "outputs": [
        {
          "output_type": "stream",
          "name": "stdout",
          "text": [
            "          [Number guessing]          \n",
            "\n",
            "        [Hit enter to begin]         \n",
            "\n",
            "              [Start]          \n",
            "\n",
            "35\n",
            "             [Bigger]\n",
            "\n",
            "75\n",
            "             [Bigger]\n",
            "\n",
            "81\n",
            "      [We have a winner!!!]\n",
            "\n"
          ]
        }
      ]
    }
  ]
}